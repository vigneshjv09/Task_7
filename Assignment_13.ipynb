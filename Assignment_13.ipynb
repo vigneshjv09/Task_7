{
  "nbformat": 4,
  "nbformat_minor": 0,
  "metadata": {
    "colab": {
      "provenance": [],
      "include_colab_link": true
    },
    "kernelspec": {
      "name": "python3",
      "display_name": "Python 3"
    },
    "language_info": {
      "name": "python"
    }
  },
  "cells": [
    {
      "cell_type": "markdown",
      "metadata": {
        "id": "view-in-github",
        "colab_type": "text"
      },
      "source": [
        "<a href=\"https://colab.research.google.com/github/vigneshjv09/Task_7/blob/main/Assignment_13.ipynb\" target=\"_parent\"><img src=\"https://colab.research.google.com/assets/colab-badge.svg\" alt=\"Open In Colab\"/></a>"
      ]
    },
    {
      "cell_type": "code",
      "source": [
        "#Social_Networks_Ads.csv"
      ],
      "metadata": {
        "id": "HeXYlZ7RZrug"
      },
      "execution_count": 3,
      "outputs": []
    },
    {
      "cell_type": "markdown",
      "source": [
        "Importing the libraries"
      ],
      "metadata": {
        "id": "gyw8UtQuZsKU"
      }
    },
    {
      "cell_type": "code",
      "execution_count": 2,
      "metadata": {
        "id": "aXXTkdLuIpEH"
      },
      "outputs": [],
      "source": [
        "import pandas as pd\n",
        "import numpy as np\n",
        "import matplotlib.pyplot as plt\n",
        "import seaborn as sns\n"
      ]
    },
    {
      "cell_type": "markdown",
      "source": [
        "Importing the dataset"
      ],
      "metadata": {
        "id": "Pz1knzKCZuib"
      }
    },
    {
      "cell_type": "code",
      "source": [
        "data = pd.read_csv('/content/Social_Network_Ads.csv')\n",
        "data.head()"
      ],
      "metadata": {
        "colab": {
          "base_uri": "https://localhost:8080/",
          "height": 206
        },
        "id": "XlcmkCboIxW1",
        "outputId": "da104a7f-f5df-4279-990a-20fc7bd5cd00"
      },
      "execution_count": 4,
      "outputs": [
        {
          "output_type": "execute_result",
          "data": {
            "text/plain": [
              "    User ID  Gender  Age  EstimatedSalary  Purchased\n",
              "0  15624510    Male   19            19000          0\n",
              "1  15810944    Male   35            20000          0\n",
              "2  15668575  Female   26            43000          0\n",
              "3  15603246  Female   27            57000          0\n",
              "4  15804002    Male   19            76000          0"
            ],
            "text/html": [
              "\n",
              "  <div id=\"df-1f69593f-5a7b-44ea-a4eb-65767e1e5e89\">\n",
              "    <div class=\"colab-df-container\">\n",
              "      <div>\n",
              "<style scoped>\n",
              "    .dataframe tbody tr th:only-of-type {\n",
              "        vertical-align: middle;\n",
              "    }\n",
              "\n",
              "    .dataframe tbody tr th {\n",
              "        vertical-align: top;\n",
              "    }\n",
              "\n",
              "    .dataframe thead th {\n",
              "        text-align: right;\n",
              "    }\n",
              "</style>\n",
              "<table border=\"1\" class=\"dataframe\">\n",
              "  <thead>\n",
              "    <tr style=\"text-align: right;\">\n",
              "      <th></th>\n",
              "      <th>User ID</th>\n",
              "      <th>Gender</th>\n",
              "      <th>Age</th>\n",
              "      <th>EstimatedSalary</th>\n",
              "      <th>Purchased</th>\n",
              "    </tr>\n",
              "  </thead>\n",
              "  <tbody>\n",
              "    <tr>\n",
              "      <th>0</th>\n",
              "      <td>15624510</td>\n",
              "      <td>Male</td>\n",
              "      <td>19</td>\n",
              "      <td>19000</td>\n",
              "      <td>0</td>\n",
              "    </tr>\n",
              "    <tr>\n",
              "      <th>1</th>\n",
              "      <td>15810944</td>\n",
              "      <td>Male</td>\n",
              "      <td>35</td>\n",
              "      <td>20000</td>\n",
              "      <td>0</td>\n",
              "    </tr>\n",
              "    <tr>\n",
              "      <th>2</th>\n",
              "      <td>15668575</td>\n",
              "      <td>Female</td>\n",
              "      <td>26</td>\n",
              "      <td>43000</td>\n",
              "      <td>0</td>\n",
              "    </tr>\n",
              "    <tr>\n",
              "      <th>3</th>\n",
              "      <td>15603246</td>\n",
              "      <td>Female</td>\n",
              "      <td>27</td>\n",
              "      <td>57000</td>\n",
              "      <td>0</td>\n",
              "    </tr>\n",
              "    <tr>\n",
              "      <th>4</th>\n",
              "      <td>15804002</td>\n",
              "      <td>Male</td>\n",
              "      <td>19</td>\n",
              "      <td>76000</td>\n",
              "      <td>0</td>\n",
              "    </tr>\n",
              "  </tbody>\n",
              "</table>\n",
              "</div>\n",
              "      <button class=\"colab-df-convert\" onclick=\"convertToInteractive('df-1f69593f-5a7b-44ea-a4eb-65767e1e5e89')\"\n",
              "              title=\"Convert this dataframe to an interactive table.\"\n",
              "              style=\"display:none;\">\n",
              "        \n",
              "  <svg xmlns=\"http://www.w3.org/2000/svg\" height=\"24px\"viewBox=\"0 0 24 24\"\n",
              "       width=\"24px\">\n",
              "    <path d=\"M0 0h24v24H0V0z\" fill=\"none\"/>\n",
              "    <path d=\"M18.56 5.44l.94 2.06.94-2.06 2.06-.94-2.06-.94-.94-2.06-.94 2.06-2.06.94zm-11 1L8.5 8.5l.94-2.06 2.06-.94-2.06-.94L8.5 2.5l-.94 2.06-2.06.94zm10 10l.94 2.06.94-2.06 2.06-.94-2.06-.94-.94-2.06-.94 2.06-2.06.94z\"/><path d=\"M17.41 7.96l-1.37-1.37c-.4-.4-.92-.59-1.43-.59-.52 0-1.04.2-1.43.59L10.3 9.45l-7.72 7.72c-.78.78-.78 2.05 0 2.83L4 21.41c.39.39.9.59 1.41.59.51 0 1.02-.2 1.41-.59l7.78-7.78 2.81-2.81c.8-.78.8-2.07 0-2.86zM5.41 20L4 18.59l7.72-7.72 1.47 1.35L5.41 20z\"/>\n",
              "  </svg>\n",
              "      </button>\n",
              "      \n",
              "  <style>\n",
              "    .colab-df-container {\n",
              "      display:flex;\n",
              "      flex-wrap:wrap;\n",
              "      gap: 12px;\n",
              "    }\n",
              "\n",
              "    .colab-df-convert {\n",
              "      background-color: #E8F0FE;\n",
              "      border: none;\n",
              "      border-radius: 50%;\n",
              "      cursor: pointer;\n",
              "      display: none;\n",
              "      fill: #1967D2;\n",
              "      height: 32px;\n",
              "      padding: 0 0 0 0;\n",
              "      width: 32px;\n",
              "    }\n",
              "\n",
              "    .colab-df-convert:hover {\n",
              "      background-color: #E2EBFA;\n",
              "      box-shadow: 0px 1px 2px rgba(60, 64, 67, 0.3), 0px 1px 3px 1px rgba(60, 64, 67, 0.15);\n",
              "      fill: #174EA6;\n",
              "    }\n",
              "\n",
              "    [theme=dark] .colab-df-convert {\n",
              "      background-color: #3B4455;\n",
              "      fill: #D2E3FC;\n",
              "    }\n",
              "\n",
              "    [theme=dark] .colab-df-convert:hover {\n",
              "      background-color: #434B5C;\n",
              "      box-shadow: 0px 1px 3px 1px rgba(0, 0, 0, 0.15);\n",
              "      filter: drop-shadow(0px 1px 2px rgba(0, 0, 0, 0.3));\n",
              "      fill: #FFFFFF;\n",
              "    }\n",
              "  </style>\n",
              "\n",
              "      <script>\n",
              "        const buttonEl =\n",
              "          document.querySelector('#df-1f69593f-5a7b-44ea-a4eb-65767e1e5e89 button.colab-df-convert');\n",
              "        buttonEl.style.display =\n",
              "          google.colab.kernel.accessAllowed ? 'block' : 'none';\n",
              "\n",
              "        async function convertToInteractive(key) {\n",
              "          const element = document.querySelector('#df-1f69593f-5a7b-44ea-a4eb-65767e1e5e89');\n",
              "          const dataTable =\n",
              "            await google.colab.kernel.invokeFunction('convertToInteractive',\n",
              "                                                     [key], {});\n",
              "          if (!dataTable) return;\n",
              "\n",
              "          const docLinkHtml = 'Like what you see? Visit the ' +\n",
              "            '<a target=\"_blank\" href=https://colab.research.google.com/notebooks/data_table.ipynb>data table notebook</a>'\n",
              "            + ' to learn more about interactive tables.';\n",
              "          element.innerHTML = '';\n",
              "          dataTable['output_type'] = 'display_data';\n",
              "          await google.colab.output.renderOutput(dataTable, element);\n",
              "          const docLink = document.createElement('div');\n",
              "          docLink.innerHTML = docLinkHtml;\n",
              "          element.appendChild(docLink);\n",
              "        }\n",
              "      </script>\n",
              "    </div>\n",
              "  </div>\n",
              "  "
            ]
          },
          "metadata": {},
          "execution_count": 4
        }
      ]
    },
    {
      "cell_type": "markdown",
      "source": [
        "Splitting the dataset into the Training set and Test set"
      ],
      "metadata": {
        "id": "udIG1BJfZyEE"
      }
    },
    {
      "cell_type": "code",
      "source": [
        "X=data.iloc[:,2:4].values\n",
        "y=data.iloc[:,-1].values"
      ],
      "metadata": {
        "id": "pgOonc08KSFr"
      },
      "execution_count": 5,
      "outputs": []
    },
    {
      "cell_type": "code",
      "source": [
        "X.shape"
      ],
      "metadata": {
        "colab": {
          "base_uri": "https://localhost:8080/"
        },
        "id": "bMzIHCcxKVd7",
        "outputId": "ba50e65a-0b28-4d2d-cca4-a18faddc51f5"
      },
      "execution_count": 6,
      "outputs": [
        {
          "output_type": "execute_result",
          "data": {
            "text/plain": [
              "(400, 2)"
            ]
          },
          "metadata": {},
          "execution_count": 6
        }
      ]
    },
    {
      "cell_type": "code",
      "source": [
        "y.shape"
      ],
      "metadata": {
        "colab": {
          "base_uri": "https://localhost:8080/"
        },
        "id": "QpaUvnk2KW3T",
        "outputId": "0c53472a-75ce-4a81-8c1a-783c62817bc0"
      },
      "execution_count": 7,
      "outputs": [
        {
          "output_type": "execute_result",
          "data": {
            "text/plain": [
              "(400,)"
            ]
          },
          "metadata": {},
          "execution_count": 7
        }
      ]
    },
    {
      "cell_type": "code",
      "source": [
        "from sklearn.model_selection import train_test_split\n",
        "X_train,X_test,y_train,y_test=train_test_split(X,y,test_size=0.2)"
      ],
      "metadata": {
        "id": "dMr-BGxUKZtz"
      },
      "execution_count": 8,
      "outputs": []
    },
    {
      "cell_type": "markdown",
      "source": [
        "Feature Scaling"
      ],
      "metadata": {
        "id": "X4Bj4iyfZ1t8"
      }
    },
    {
      "cell_type": "code",
      "source": [
        "from sklearn.preprocessing import StandardScaler\n",
        "scaler = StandardScaler()"
      ],
      "metadata": {
        "id": "IXkELtp2he28"
      },
      "execution_count": 9,
      "outputs": []
    },
    {
      "cell_type": "markdown",
      "source": [
        "Fitting K-NN to the Training set\n",
        "\n"
      ],
      "metadata": {
        "id": "3-x1HKt1hkmG"
      }
    },
    {
      "cell_type": "code",
      "source": [
        "X_train = scaler.fit_transform(X_train)\n",
        "X_train"
      ],
      "metadata": {
        "colab": {
          "base_uri": "https://localhost:8080/"
        },
        "id": "0nUNnygkKdJb",
        "outputId": "06aacdac-1e53-4347-e870-72a3c6f51920"
      },
      "execution_count": 10,
      "outputs": [
        {
          "output_type": "execute_result",
          "data": {
            "text/plain": [
              "array([[-0.89177379, -0.40363584],\n",
              "       [-1.46730511, -1.2227926 ],\n",
              "       [-0.41216436, -1.193537  ],\n",
              "       [-0.22032058, -1.3690706 ],\n",
              "       [-0.02847681,  2.25862364],\n",
              "       [-0.89177379,  0.53254332],\n",
              "       [ 0.6429764 ,  2.05383445],\n",
              "       [ 0.25928885, -0.25735784],\n",
              "       [-0.7958519 , -0.75470302],\n",
              "       [ 0.35521074, -1.13502581],\n",
              "       [ 0.83482017,  0.56179892],\n",
              "       [ 0.25928885, -0.63768063],\n",
              "       [ 2.17772658,  1.14691089],\n",
              "       [-0.89177379,  0.29849853],\n",
              "       [-0.89177379, -0.28661344],\n",
              "       [-0.1243987 ,  2.20011245],\n",
              "       [-0.22032058, -0.72544742],\n",
              "       [ 2.17772658, -0.66693623],\n",
              "       [-1.85099266,  0.38626533],\n",
              "       [ 1.02666394,  0.62031012],\n",
              "       [-0.7958519 , -1.193537  ],\n",
              "       [-0.7958519 ,  0.41552093],\n",
              "       [ 0.25928885, -0.34512464],\n",
              "       [-1.65914888,  0.50328772],\n",
              "       [ 1.02666394,  0.79584371],\n",
              "       [ 2.0818047 , -0.78395862],\n",
              "       [-0.7958519 ,  0.41552093],\n",
              "       [-0.41216436,  2.34639044],\n",
              "       [-0.02847681, -1.04725901],\n",
              "       [-1.27546134, -1.2227926 ],\n",
              "       [ 0.54705451,  1.87830086],\n",
              "       [ 0.06744508, -0.22810225],\n",
              "       [ 0.83482017,  0.29849853],\n",
              "       [-0.7958519 , -0.22810225],\n",
              "       [ 0.25928885, -0.11107985],\n",
              "       [ 1.3144296 , -1.339815  ],\n",
              "       [-0.98769568,  1.99532326],\n",
              "       [-1.85099266,  0.50328772],\n",
              "       [-0.89177379,  1.58574487],\n",
              "       [ 1.02666394,  1.90755646],\n",
              "       [ 0.93074206, -1.2813038 ],\n",
              "       [-1.37138322, -0.60842503],\n",
              "       [-1.08361756, -1.07651461],\n",
              "       [-0.22032058, -0.54991383],\n",
              "       [-1.85099266, -0.02331306],\n",
              "       [ 0.16336696,  0.29849853],\n",
              "       [ 0.25928885, -0.34512464],\n",
              "       [ 0.16336696,  1.0883997 ],\n",
              "       [ 1.50627338,  0.38626533],\n",
              "       [ 0.06744508, -0.11107985],\n",
              "       [ 1.21850772, -0.95949221],\n",
              "       [-0.69993002, -0.19884665],\n",
              "       [-0.98769568,  0.56179892],\n",
              "       [-0.98769568,  0.44477652],\n",
              "       [-0.31624247, -0.75470302],\n",
              "       [-0.50808624, -1.48609299],\n",
              "       [-1.65914888,  0.38626533],\n",
              "       [ 1.98588281, -0.63768063],\n",
              "       [ 0.93074206, -0.57916943],\n",
              "       [-0.98769568, -0.43289144],\n",
              "       [ 2.0818047 ,  1.79053406],\n",
              "       [-0.69993002,  1.38095568],\n",
              "       [ 0.73889828, -1.2520482 ],\n",
              "       [-0.41216436,  1.29318889],\n",
              "       [ 0.25928885,  0.06445374],\n",
              "       [ 0.16336696, -0.22810225],\n",
              "       [ 1.41035149,  1.32244448],\n",
              "       [ 0.35521074, -0.28661344],\n",
              "       [ 0.93074206,  1.11765529],\n",
              "       [-0.69993002,  0.32775413],\n",
              "       [ 1.69811715,  1.79053406],\n",
              "       [-1.08361756, -0.49140263],\n",
              "       [-0.02847681,  0.32775413],\n",
              "       [ 0.35521074,  0.09370934],\n",
              "       [ 1.21850772, -1.42758179],\n",
              "       [-0.31624247,  1.26393329],\n",
              "       [ 1.12258583,  0.50328772],\n",
              "       [ 0.93074206, -1.339815  ],\n",
              "       [ 1.60219526,  1.14691089],\n",
              "       [ 1.60219526, -1.2520482 ],\n",
              "       [ 0.73889828,  1.81978966],\n",
              "       [-1.37138322, -0.08182425],\n",
              "       [-1.563227  ,  0.56179892],\n",
              "       [ 1.50627338,  0.09370934],\n",
              "       [-1.27546134,  0.44477652],\n",
              "       [-0.89177379,  0.44477652],\n",
              "       [-0.60400813, -1.57385979],\n",
              "       [-0.02847681,  0.15222054],\n",
              "       [-1.75507077, -1.45683739],\n",
              "       [ 1.3144296 ,  2.25862364],\n",
              "       [ 0.93074206, -1.01800341],\n",
              "       [-0.41216436, -0.52065823],\n",
              "       [-0.22032058,  0.09370934],\n",
              "       [-1.08361756,  0.32775413],\n",
              "       [-0.22032058, -1.339815  ],\n",
              "       [ 1.12258583, -1.193537  ],\n",
              "       [ 1.41035149,  2.02457885],\n",
              "       [ 1.02666394, -1.13502581],\n",
              "       [ 1.02666394,  1.46872248],\n",
              "       [ 0.06744508,  0.06445374],\n",
              "       [-1.46730511, -0.16959105],\n",
              "       [ 1.50627338,  1.0298885 ],\n",
              "       [-1.46730511,  0.35700973],\n",
              "       [ 0.35521074,  0.53254332],\n",
              "       [-0.41216436, -0.25735784],\n",
              "       [ 2.17772658,  0.41552093],\n",
              "       [-0.22032058, -0.87172542],\n",
              "       [ 0.45113262,  0.29849853],\n",
              "       [ 0.16336696,  0.12296494],\n",
              "       [-1.65914888, -0.95949221],\n",
              "       [-0.69993002, -1.51534859],\n",
              "       [-0.02847681, -0.46214704],\n",
              "       [-0.22032058, -0.31586904],\n",
              "       [-0.31624247,  1.35170008],\n",
              "       [-0.31624247, -0.75470302],\n",
              "       [-0.22032058, -0.54991383],\n",
              "       [ 1.12258583,  2.11234565],\n",
              "       [-0.02847681,  0.23998733],\n",
              "       [-0.22032058,  0.64956571],\n",
              "       [ 2.0818047 , -1.1642814 ],\n",
              "       [-0.50808624,  1.41021128],\n",
              "       [ 0.73889828, -0.69619183],\n",
              "       [ 0.54705451,  1.26393329],\n",
              "       [ 0.35521074, -0.25735784],\n",
              "       [-0.7958519 , -0.63768063],\n",
              "       [ 0.83482017, -1.193537  ],\n",
              "       [ 2.17772658, -0.78395862],\n",
              "       [ 1.41035149, -1.39832619],\n",
              "       [-1.85099266, -0.72544742],\n",
              "       [-0.22032058,  1.14691089],\n",
              "       [ 1.41035149,  2.37564604],\n",
              "       [-0.02847681, -0.34512464],\n",
              "       [ 0.35521074,  0.09370934],\n",
              "       [ 0.06744508,  0.06445374],\n",
              "       [-0.22032058, -0.63768063],\n",
              "       [ 1.12258583,  0.56179892],\n",
              "       [-1.08361756,  0.32775413],\n",
              "       [ 0.35521074,  0.09370934],\n",
              "       [-0.02847681, -0.19884665],\n",
              "       [-0.89177379, -0.93023661],\n",
              "       [-1.65914888,  0.15222054],\n",
              "       [ 1.02666394, -0.98874781],\n",
              "       [ 0.16336696, -0.28661344],\n",
              "       [ 1.88996092,  0.15222054],\n",
              "       [-0.89177379, -0.72544742],\n",
              "       [-1.563227  ,  0.09370934],\n",
              "       [-0.98769568, -1.10577021],\n",
              "       [ 0.45113262, -0.11107985],\n",
              "       [-0.22032058,  0.06445374],\n",
              "       [ 0.45113262,  1.14691089],\n",
              "       [ 2.0818047 ,  0.21073173],\n",
              "       [-0.98769568, -1.42758179],\n",
              "       [ 1.12258583,  0.59105452],\n",
              "       [ 0.45113262,  0.18147614],\n",
              "       [-0.22032058, -1.42758179],\n",
              "       [-1.37138322, -1.42758179],\n",
              "       [ 0.35521074, -0.52065823],\n",
              "       [-0.22032058, -0.22810225],\n",
              "       [-0.02847681, -0.40363584],\n",
              "       [-0.69993002,  1.11765529],\n",
              "       [-0.69993002,  0.53254332],\n",
              "       [-1.17953945, -1.3690706 ],\n",
              "       [-0.22032058, -0.25735784],\n",
              "       [ 0.35521074, -0.69619183],\n",
              "       [-0.22032058, -1.2227926 ],\n",
              "       [-0.41216436,  0.00594254],\n",
              "       [ 0.35521074,  0.06445374],\n",
              "       [ 0.35521074, -0.16959105],\n",
              "       [-1.17953945,  0.32775413],\n",
              "       [-1.27546134, -1.339815  ],\n",
              "       [-0.22032058,  0.18147614],\n",
              "       [ 0.06744508, -0.28661344],\n",
              "       [-0.1243987 , -0.43289144],\n",
              "       [-0.1243987 ,  0.8836105 ],\n",
              "       [ 0.06744508, -0.40363584],\n",
              "       [-0.1243987 , -0.54991383],\n",
              "       [ 1.02666394, -1.04725901],\n",
              "       [ 1.69811715,  1.64425607],\n",
              "       [ 0.06744508, -0.54991383],\n",
              "       [ 0.25928885,  2.14160125],\n",
              "       [-0.31624247,  0.09370934],\n",
              "       [ 1.88996092, -1.04725901],\n",
              "       [-1.08361756, -1.54460419],\n",
              "       [-0.22032058,  0.18147614],\n",
              "       [ 1.12258583, -0.87172542],\n",
              "       [-0.7958519 ,  0.18147614],\n",
              "       [ 0.45113262,  0.12296494],\n",
              "       [-0.22032058,  0.23998733],\n",
              "       [-1.85099266, -0.49140263],\n",
              "       [-0.60400813,  0.06445374],\n",
              "       [-1.17953945,  0.29849853],\n",
              "       [-1.75507077, -1.39832619],\n",
              "       [-0.02847681,  0.06445374],\n",
              "       [ 1.41035149, -0.90098102],\n",
              "       [-0.1243987 , -1.04725901],\n",
              "       [-0.7958519 ,  2.31713484],\n",
              "       [ 0.45113262,  0.62031012],\n",
              "       [-0.50808624,  0.9128661 ],\n",
              "       [ 1.12258583,  0.15222054],\n",
              "       [ 0.45113262, -0.43289144],\n",
              "       [-0.41216436, -1.10577021],\n",
              "       [-0.02847681,  1.99532326],\n",
              "       [-1.08361756,  0.09370934],\n",
              "       [ 0.06744508, -0.22810225],\n",
              "       [-0.22032058,  0.56179892],\n",
              "       [-1.27546134,  0.59105452],\n",
              "       [ 0.93074206,  2.20011245],\n",
              "       [-1.37138322, -1.193537  ],\n",
              "       [-1.08361756, -1.57385979],\n",
              "       [ 0.73889828, -1.3690706 ],\n",
              "       [ 1.02666394, -0.81321422],\n",
              "       [-0.22032058, -0.34512464],\n",
              "       [-0.98769568,  0.79584371],\n",
              "       [-0.60400813, -0.08182425],\n",
              "       [ 1.02666394, -1.1642814 ],\n",
              "       [-0.50808624,  2.37564604],\n",
              "       [ 0.16336696,  0.23998733],\n",
              "       [-1.65914888,  0.38626533],\n",
              "       [ 0.54705451,  1.76127847],\n",
              "       [-0.1243987 ,  1.64425607],\n",
              "       [ 0.45113262, -0.14033545],\n",
              "       [ 0.06744508,  0.32775413],\n",
              "       [ 0.83482017, -1.339815  ],\n",
              "       [-0.1243987 , -0.49140263],\n",
              "       [-1.17953945,  0.62031012],\n",
              "       [-1.563227  , -1.54460419],\n",
              "       [ 0.16336696, -0.78395862],\n",
              "       [-0.22032058, -1.2813038 ],\n",
              "       [ 0.35521074,  0.32775413],\n",
              "       [ 0.45113262,  2.34639044],\n",
              "       [ 0.83482017, -0.28661344],\n",
              "       [-0.98769568, -1.51534859],\n",
              "       [ 0.25928885,  0.18147614],\n",
              "       [ 0.35521074,  0.29849853],\n",
              "       [ 1.02666394, -1.04725901],\n",
              "       [ 1.12258583, -0.95949221],\n",
              "       [ 1.98588281, -0.90098102],\n",
              "       [-1.08361756, -0.75470302],\n",
              "       [ 1.88996092, -1.2520482 ],\n",
              "       [ 0.73889828, -1.3690706 ],\n",
              "       [ 1.12258583, -0.11107985],\n",
              "       [ 0.16336696,  1.90755646],\n",
              "       [ 0.45113262,  0.03519814],\n",
              "       [ 0.06744508, -0.52065823],\n",
              "       [ 2.0818047 ,  0.56179892],\n",
              "       [ 1.02666394,  2.02457885],\n",
              "       [-0.22032058, -0.11107985],\n",
              "       [-0.69993002,  0.29849853],\n",
              "       [-0.41216436, -0.75470302],\n",
              "       [-1.08361756,  0.50328772],\n",
              "       [-1.08361756, -0.98874781],\n",
              "       [-1.46730511, -0.40363584],\n",
              "       [-1.65914888, -0.57916943],\n",
              "       [ 0.16336696,  0.06445374],\n",
              "       [ 2.0818047 ,  2.17085685],\n",
              "       [ 0.16336696,  0.79584371],\n",
              "       [ 0.83482017,  0.15222054],\n",
              "       [ 0.93074206, -1.13502581],\n",
              "       [ 1.02666394,  1.81978966],\n",
              "       [-1.37138322,  0.38626533],\n",
              "       [-0.1243987 ,  0.18147614],\n",
              "       [-0.69993002, -1.57385979],\n",
              "       [ 1.12258583, -1.193537  ],\n",
              "       [-0.02847681,  0.32775413],\n",
              "       [-0.60400813, -1.01800341],\n",
              "       [ 0.93074206,  1.0591441 ],\n",
              "       [ 0.35521074, -0.49140263],\n",
              "       [ 1.98588281, -1.339815  ],\n",
              "       [-1.08361756, -1.57385979],\n",
              "       [-0.1243987 , -0.16959105],\n",
              "       [-0.22032058, -0.46214704],\n",
              "       [-0.1243987 ,  1.67351167],\n",
              "       [ 0.16336696, -0.78395862],\n",
              "       [-0.22032058, -0.90098102],\n",
              "       [-1.46730511, -1.48609299],\n",
              "       [-0.60400813,  1.43946688],\n",
              "       [ 1.21850772,  0.56179892],\n",
              "       [-1.08361756, -1.13502581],\n",
              "       [ 1.02666394,  2.11234565],\n",
              "       [ 1.02666394,  0.15222054],\n",
              "       [-0.7958519 ,  0.32775413],\n",
              "       [-1.37138322, -0.16959105],\n",
              "       [ 0.83482017, -0.81321422],\n",
              "       [ 0.45113262, -0.46214704],\n",
              "       [-0.1243987 , -0.25735784],\n",
              "       [-1.08361756,  0.35700973],\n",
              "       [-1.65914888, -1.339815  ],\n",
              "       [-1.563227  , -0.02331306],\n",
              "       [ 0.83482017,  0.79584371],\n",
              "       [-0.60400813, -0.31586904],\n",
              "       [-1.17953945,  0.53254332],\n",
              "       [-0.31624247, -1.2813038 ],\n",
              "       [ 1.79403904,  1.87830086],\n",
              "       [-0.98769568,  0.62031012],\n",
              "       [ 0.45113262,  0.32775413],\n",
              "       [-0.98769568, -0.34512464],\n",
              "       [-0.22032058,  0.82509931],\n",
              "       [-1.75507077, -1.2520482 ],\n",
              "       [ 1.98588281,  2.20011245],\n",
              "       [-1.27546134, -0.31586904],\n",
              "       [-0.22032058,  0.29849853],\n",
              "       [-0.69993002,  0.59105452],\n",
              "       [ 0.93074206,  1.29318889],\n",
              "       [-0.98769568, -0.31586904],\n",
              "       [-0.22032058, -0.40363584],\n",
              "       [ 0.16336696,  0.06445374],\n",
              "       [ 1.41035149,  0.62031012],\n",
              "       [-1.75507077,  0.21073173],\n",
              "       [ 0.73889828,  0.29849853],\n",
              "       [ 0.45113262, -0.11107985],\n",
              "       [-1.08361756,  1.43946688],\n",
              "       [-1.08361756,  0.44477652],\n",
              "       [ 1.60219526,  1.0298885 ],\n",
              "       [ 0.93074206, -0.54991383],\n",
              "       [-0.22032058,  0.09370934],\n",
              "       [-0.60400813, -1.48609299],\n",
              "       [-0.22032058,  0.12296494],\n",
              "       [ 1.88996092,  1.55648927],\n",
              "       [-1.27546134, -1.45683739],\n",
              "       [ 0.93074206, -0.63768063]])"
            ]
          },
          "metadata": {},
          "execution_count": 10
        }
      ]
    },
    {
      "cell_type": "code",
      "source": [
        "np.sqrt(X_train.shape[0])"
      ],
      "metadata": {
        "colab": {
          "base_uri": "https://localhost:8080/"
        },
        "id": "F_XyGQu_Kimb",
        "outputId": "13f80a66-0d4a-45ae-8792-19ea98fc813d"
      },
      "execution_count": 11,
      "outputs": [
        {
          "output_type": "execute_result",
          "data": {
            "text/plain": [
              "17.88854381999832"
            ]
          },
          "metadata": {},
          "execution_count": 11
        }
      ]
    },
    {
      "cell_type": "code",
      "source": [
        "k = 17"
      ],
      "metadata": {
        "id": "Q9gEf7b5KkTT"
      },
      "execution_count": 12,
      "outputs": []
    },
    {
      "cell_type": "code",
      "source": [
        "from sklearn.neighbors import KNeighborsClassifier\n",
        "knn = KNeighborsClassifier(n_neighbors=k)"
      ],
      "metadata": {
        "id": "b_vd78GBKlw7"
      },
      "execution_count": 13,
      "outputs": []
    },
    {
      "cell_type": "code",
      "source": [
        "knn.fit(X_train,y_train)"
      ],
      "metadata": {
        "colab": {
          "base_uri": "https://localhost:8080/"
        },
        "id": "rXk8DvZEiF9_",
        "outputId": "e99efb45-0b2d-4700-a557-a11c56e1c865"
      },
      "execution_count": 14,
      "outputs": [
        {
          "output_type": "execute_result",
          "data": {
            "text/plain": [
              "KNeighborsClassifier(n_neighbors=17)"
            ]
          },
          "metadata": {},
          "execution_count": 14
        }
      ]
    },
    {
      "cell_type": "code",
      "source": [
        "y_pred = knn.predict(X_test)"
      ],
      "metadata": {
        "id": "FQmP90OEiK1m"
      },
      "execution_count": 15,
      "outputs": []
    },
    {
      "cell_type": "code",
      "source": [
        "y_pred.shape"
      ],
      "metadata": {
        "colab": {
          "base_uri": "https://localhost:8080/"
        },
        "id": "CgbaiBW2iOEW",
        "outputId": "683841d3-3f75-4217-f7f8-6a67c9002ced"
      },
      "execution_count": 16,
      "outputs": [
        {
          "output_type": "execute_result",
          "data": {
            "text/plain": [
              "(80,)"
            ]
          },
          "metadata": {},
          "execution_count": 16
        }
      ]
    },
    {
      "cell_type": "code",
      "source": [
        "y_test.shape"
      ],
      "metadata": {
        "colab": {
          "base_uri": "https://localhost:8080/"
        },
        "id": "wFzjSeuqiQHr",
        "outputId": "21419ee8-45aa-4e40-99af-5f6aaa045165"
      },
      "execution_count": 17,
      "outputs": [
        {
          "output_type": "execute_result",
          "data": {
            "text/plain": [
              "(80,)"
            ]
          },
          "metadata": {},
          "execution_count": 17
        }
      ]
    },
    {
      "cell_type": "markdown",
      "source": [
        "Predicting the Test set results"
      ],
      "metadata": {
        "id": "1TyySUbJiSzp"
      }
    },
    {
      "cell_type": "code",
      "source": [
        "from sklearn.metrics import accuracy_score\n",
        "accuracy_score(y_test,y_pred)"
      ],
      "metadata": {
        "colab": {
          "base_uri": "https://localhost:8080/"
        },
        "id": "1wAj6xMwiVjO",
        "outputId": "85a8c429-0bd1-43ff-cae5-d48762de9b0e"
      },
      "execution_count": 18,
      "outputs": [
        {
          "output_type": "execute_result",
          "data": {
            "text/plain": [
              "0.425"
            ]
          },
          "metadata": {},
          "execution_count": 18
        }
      ]
    },
    {
      "cell_type": "code",
      "source": [
        "from sklearn.metrics import confusion_matrix\n",
        "confusion_matrix(y_test,y_pred)"
      ],
      "metadata": {
        "colab": {
          "base_uri": "https://localhost:8080/"
        },
        "id": "vsQvINORik01",
        "outputId": "f7b74b0f-e7dc-468a-f0a1-65ca3fdb3b5b"
      },
      "execution_count": 19,
      "outputs": [
        {
          "output_type": "execute_result",
          "data": {
            "text/plain": [
              "array([[ 0, 46],\n",
              "       [ 0, 34]])"
            ]
          },
          "metadata": {},
          "execution_count": 19
        }
      ]
    },
    {
      "cell_type": "code",
      "source": [
        "accuracy = []\n",
        "\n",
        "for i in range(1,26):\n",
        "    knn = KNeighborsClassifier(n_neighbors=i)\n",
        "    knn.fit(X_train,y_train)\n",
        "    accuracy.append(accuracy_score(y_test,knn.predict(X_test)))"
      ],
      "metadata": {
        "id": "X_OtmXUvisLV"
      },
      "execution_count": 21,
      "outputs": []
    }
  ]
}